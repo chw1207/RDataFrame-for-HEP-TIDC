{
 "cells": [
  {
   "cell_type": "markdown",
   "metadata": {},
   "source": [
    "# RDataFrame\n",
    "[RDataFrame documentation](https://root.cern/doc/master/classROOT_1_1RDataFrame.html)\n",
    "\n",
    "`RDataFrame` is a high-level interface recommended by ROOT to perform the analysis, which is officially part of ROOT. \n",
    "\n",
    "The framework loads `TTree` into a table and handles loop management over event entries. This allows users to easily specify custom code executed within the event loop, making the analysis efficiently parallelizable.\n",
    "What you need to do is add a line `ROOT.EnableImplicitMT()`.\n",
    "\n",
    "Moreover, It is adapted for HEP languages: `C++` and `Python`.\n",
    "\n",
    "<img src=\"RDataFrame.png\" width=\"1000\" height=\"300\">\n",
    "\n",
    "## Create a ROOT RDataFrame\n",
    "First of all, we can construct a `RDataFrame` by specifying the name of a tree and one or more files."
   ]
  },
  {
   "cell_type": "code",
   "execution_count": 1,
   "metadata": {},
   "outputs": [
    {
     "name": "stdout",
     "output_type": "stream",
     "text": [
      "Welcome to JupyROOT 6.28/04\n"
     ]
    }
   ],
   "source": [
    "import ROOT\n",
    "\n",
    "# scale all the available cores locally\n",
    "# enable multi-threading with the specified amount of threads\n",
    "ROOT.EnableImplicitMT()\n",
    "\n",
    "# df = ROOT.RDataFrame(\"tree_name\", \"file_name\")\n",
    "# or \n",
    "# df = ROOT.RDataFrame(\"tree_name\", [\"file1_name\", \"file2_name\", .....])\n",
    "df = ROOT.RDataFrame(\"Events\", \"DYToLL.root\")"
   ]
  },
  {
   "cell_type": "markdown",
   "metadata": {},
   "source": [
    "It has a special function called `Describe` to show the contents of tree(s)."
   ]
  },
  {
   "cell_type": "code",
   "execution_count": 2,
   "metadata": {},
   "outputs": [
    {
     "name": "stdout",
     "output_type": "stream",
     "text": [
      "Dataframe from TChain Events in file DYToLL.root"
     ]
    }
   ],
   "source": [
    "df.Describe().Print(shortFormat=True)\n",
    "# df.Describe().Print() # show the full content"
   ]
  },
  {
   "cell_type": "markdown",
   "metadata": {},
   "source": [
    "## Discard unwanted events for this analysis \n",
    "Generally, Ntuple needs to do the objects and events selections to get the events for the actual analysis. We can use the functions `Define` and `Filter` to do the objects and events selections. \n",
    " 1. `Define`: To create custom columns. This function is useful to define a collection past the object selection.\n",
    " 2. `Filter`: To discrad unwanted events (i.e. apply event cuts). \n",
    "\n",
    "The function `Define` relies on the operation on a `std::vector`-like collection `ROOT::VecOps::RVec<T>`.\n",
    "For loop is no longer needed from our side. We only need the operation like this to have `ele_pt > 10`.\n",
    "```\n",
    "ele_pt[ele_pt > 10.f]\n",
    "```\n",
    "<img src=\"RVec.png\" width=\"1000\" height=\"620\">\n",
    "\n",
    "For more information about `RVec` please check \n",
    "[RVec documentation](https://root.cern/doc/master/classROOT_1_1VecOps_1_1RVec.html).\n",
    "\n",
    "\n",
    "Here, we consider electrons satisfying some very basic criteria\n",
    " 1. Electron_mvaIso_WP90\n",
    " 2. pT > 10 GeV\n",
    "\n",
    "and two electrons with opposite charges will be selected to reconstruct Z mass.\n",
    "\n",
    "| Branch name | Data type | Description|\n",
    "|-------------|-----------|------------|\n",
    "| `nElectron` | `UInt_t` | Number of electrons (slimmedElectrons after basic selection (pt > 5 ))\n",
    "| `Electron_pt` | `ROOT::VecOps::RVec<Float_t>` | Pt stored as vector with length `nElectron`|\n",
    "| `Electron_eta` | `ROOT::VecOps::RVec<Float_t>` | Eta stored as vector with length `nElectron`|\n",
    "| `Electron_phi` | `ROOT::VecOps::RVec<Float_t>` | Phi stored as vector with length `nElectron`|\n",
    "| `Electron_charge` | `ROOT::VecOps::RVec<Float_t>` | Electric charge stored as vector with length `nElectron` (1 or -1)|\n",
    "| `Electron_mass` | `ROOT::VecOps::RVec<Float_t>` | Mass stored as vector with length `nElectron`|\n",
    "| `Electron_mvaIso_WP90` | `ROOT::VecOps::RVec<Bool_t>` | MVA Iso ID WP90 stored as vector with length `nElectron`|\n",
    "\n",
    "\n",
    "Traditionally, we need to loop over every event and object to select the events we want.\n",
    "Just as the python script shown belows.\n",
    "```python \n",
    "import ROOT\n",
    "fin = ROOT.TFile.Open(\"ntuple.root\", \"READ\")\n",
    "tin = fin.Get(\"tree_name\")\n",
    "\n",
    "for ev in tin:\n",
    "    if (len(ev.nElectron) <= 1):\n",
    "        continue\n",
    "    \n",
    "    good_ele = []\n",
    "    for iele in range(len(ev.nElectron)):\n",
    "        if (ev.Electron_mvaIso_WP90[iele] != 1 or ev.Electron_pt[iele] < 10):\n",
    "            continue\n",
    "        good_ele.append(iele)\n",
    "    \n",
    "    if (len(ev.nElectron) <= 1):\n",
    "        continue\n",
    "    ......\n",
    "```\n",
    "How will the above thing be done in `RDataFrame` approach?"
   ]
  },
  {
   "cell_type": "code",
   "execution_count": 3,
   "metadata": {},
   "outputs": [],
   "source": [
    "df1 = df.Filter(\"nElectron > 1\", \"nele > 1\")\\\n",
    "        .Define(\"isGoodEle\", \"Electron_mvaIso_WP90 == 1 && Electron_pt > 10\")\\\n",
    "        .Filter(\"ROOT::VecOps::Sum(isGoodEle) > 1\", \"two good electrons\")"
   ]
  },
  {
   "cell_type": "markdown",
   "metadata": {},
   "source": [
    "However, world is not that simple. Sometimes we need a complicated operation to extract the \"good\" objects.\n",
    "\n",
    "Here, for example, we want to get the exact indices of the most energetic two electrons pass the crieria (i.e. defined as isGoodEle)\n",
    "\n",
    "RDataFrame provides two methods to deal with this condition. One injects `C++ expression`, and the other one uses `Numba` together with `numpy.array`."
   ]
  },
  {
   "cell_type": "code",
   "execution_count": 4,
   "metadata": {},
   "outputs": [],
   "source": [
    "import numpy as np\n",
    "\n",
    "def my_init():\n",
    "    @ROOT.Numba.Declare([\"RVec<int>\", \"RVec<float>\"], \"RVec<int>\")\n",
    "    def GetIndices(isgood, pt): # the RVec will be treated as numpy array in the function\n",
    "        idx_select = np.nonzero(isgood)[0]\n",
    "        idx_sort = np.argsort(-pt)\n",
    "        idx = np.array([i for i in idx_sort if i in idx_select], dtype=np.int32)\n",
    "        return idx\n",
    "    \n",
    "    # this method also works\n",
    "    # ROOT.gInterpreter.Declare(\"\"\"\n",
    "    #     #ifndef MYHELP\n",
    "    #     #define MYHELP\n",
    "    #     ROOT::RVec<int> GetIndices(const ROOT::RVec<int>& isgood, const ROOT::RVec<float>& pt){\n",
    "    #         ROOT::RVec<int> idx_select = ROOT::VecOps::Nonzero(isgood);\n",
    "    #         ROOT::RVec<int> idx_sort = ROOT::VecOps::Reverse(ROOT::VecOps::Argsort(pt));\n",
    "    #         ROOT::RVec<int> idx = ROOT::VecOps::Intersect(idx_sort, idx_select);\n",
    "    #         return idx;\n",
    "    #     }\n",
    "    #     #endif\n",
    "    # \"\"\")\n",
    "my_init()"
   ]
  },
  {
   "cell_type": "markdown",
   "metadata": {},
   "source": [
    "Once these two electrons are selected, we can further require their charges should be opposite and reconstruct the 4-vectors `ROOT::Math::LorentzVector`.\n",
    "\n",
    "You might be more familiar with the `TLorentzVector` class, but it's now deprecated by ROOT. The newly developed `ROOT::Math::LorentzVector` offers improved performance and maintains a very similar usage to the `TLorentzVector`.\n",
    "\n",
    "For more information about `ROOT::Math::LorentzVector` please check \n",
    "[ROOT::Math::LorentzVector documentation](https://root.cern.ch/doc/master/classROOT_1_1Math_1_1LorentzVector.html)."
   ]
  },
  {
   "cell_type": "code",
   "execution_count": 5,
   "metadata": {},
   "outputs": [],
   "source": [
    "df2 = df1.Define(\"ele1_idx\", \"Numba::GetIndices(isGoodEle, Electron_pt)[0]\")\\\n",
    "         .Define(\"ele2_idx\", \"Numba::GetIndices(isGoodEle, Electron_pt)[1]\")\\\n",
    "         .Filter(\"Electron_charge[ele1_idx] * Electron_charge[ele2_idx] < 0\", \"opposite charge\")\\\n",
    "         .Define(\"ele1\",      \"ROOT::Math::PtEtaPhiMVector v(Electron_pt[ele1_idx], Electron_eta[ele1_idx], Electron_phi[ele1_idx], Electron_mass[ele1_idx]); return v;\")\\\n",
    "         .Define(\"ele2\",      \"ROOT::Math::PtEtaPhiMVector v(Electron_pt[ele2_idx], Electron_eta[ele2_idx], Electron_phi[ele2_idx], Electron_mass[ele2_idx]); return v;\")\\\n",
    "         .Define(\"diEleMass\", \"(float) (ele1+ele2).M()\")"
   ]
  },
  {
   "cell_type": "markdown",
   "metadata": {},
   "source": [
    "## Produce the results\n",
    "\n",
    "The function `Histo1D` returns a one-dimensional histogram `TH1D` wrapped by smart pointer, so calling it is the same as what you need to do when initializing a `TH1D`.\n",
    "\n",
    "`RDataFrame` also supports users to export the columns to various `ROOT` objects, like\n",
    "1. `Profile1D` fills a one-dimensional `TProfile`.\n",
    "2. `Graph` fills a `TGraph` with the two columns provided.\n",
    "\n",
    "In addition, the function `Report` can produce the cut flow report. It calculates how many event entries have been accepted and rejected by the filters passed to the `Filter` method.\n",
    "\n",
    "Users can also dump the results in to a smaller `TTree` to do a furhter study via `SnapShot`.\n",
    "\n",
    "Notably, The event loop is triggerd when we try to access the histogram object. (i.e. call the funtion of `TH1`)\n",
    "This is because several actions metioned above in `RDataFrame` are computed lazily.\n",
    "Therefore, make sure all transformations and actions are booked berfore you access the contents of any objects. \n",
    "This enable `RDataFrame` to produce all the results at the same time."
   ]
  },
  {
   "cell_type": "code",
   "execution_count": 6,
   "metadata": {},
   "outputs": [
    {
     "data": {
      "text/plain": [
       "<cppyy.gbl.ROOT.RDF.RResultPtr<ROOT::RDF::RInterface<ROOT::Detail::RDF::RLoopManager,void> > object at 0x55c38f3b0dc0>"
      ]
     },
     "execution_count": 6,
     "metadata": {},
     "output_type": "execute_result"
    },
    {
     "name": "stdout",
     "output_type": "stream",
     "text": [
      "nele > 1  : pass=2000       all=10000      -- eff=20.00 % cumulative eff=20.00 %\n",
      "two good electrons: pass=1253       all=2000       -- eff=62.65 % cumulative eff=12.53 %\n",
      "opposite charge: pass=1226       all=1253       -- eff=97.85 % cumulative eff=12.26 %\n"
     ]
    },
    {
     "data": {
      "image/png": "[encoded data removed]",
      "text/plain": [
       "<IPython.core.display.Image object>"
      ]
     },
     "metadata": {},
     "output_type": "display_data"
    }
   ],
   "source": [
    "report = df2.Report()\n",
    "hist = df2.Histo1D((\"diEleMass\", \"Dielectron mass distribution\", 60, 60, 120), \"diEleMass\") \n",
    "\n",
    "ROOT.gStyle.SetOptStat(0)\n",
    "ROOT.gStyle.SetPadTickX(1)\n",
    "ROOT.gStyle.SetPadTickY(1)    \n",
    "c = ROOT.TCanvas(\"c\", \"c\", 800, 700)\n",
    "c.cd()\n",
    "\n",
    "# trigger the event loop\n",
    "hist.GetXaxis().SetTitle(\"m_{ee} (GeV)\")\n",
    "hist.GetXaxis().SetTitleSize(0.04)\n",
    "hist.GetXaxis().SetTitleOffset(1.1)\n",
    "hist.SetLineColor(ROOT.TColor.GetColor(\"#FFA33C\")) \n",
    "hist.SetFillColor(ROOT.TColor.GetColor(\"#FFC436\")) \n",
    "hist.SetLineWidth(3)\n",
    "hist.Draw(\"hist\")\n",
    "\n",
    "c.Draw()\n",
    "report.Print()\n",
    "\n",
    "# Snapshot(\"tree_name\", \"file_name\", [all the colums you want to save])\n",
    "df2.Snapshot(\"miniTree\", \"miniTree.root\", [\"ele1\", \"ele2\", \"diEleMass\"])"
   ]
  },
  {
   "cell_type": "code",
   "execution_count": 7,
   "metadata": {},
   "outputs": [
    {
     "name": "stdout",
     "output_type": "stream",
     "text": [
      "\n",
      "Attaching file miniTree.root as _file0...\n",
      "(TFile *) 0x5647ae033b00\n",
      "******************************************************************************\n",
      "*Tree    :miniTree  : miniTree                                               *\n",
      "*Entries :     1226 : Total =           92426 bytes  File  Size =      38716 *\n",
      "*        :          : Tree compression factor =   2.25                       *\n",
      "******************************************************************************\n",
      "*Branch  :ele1                                                               *\n",
      "*Entries :     1226 : BranchElement (see below)                              *\n",
      "*............................................................................*\n",
      "*Br    0 :fCoordinates :                                                     *\n",
      "*Entries :     1226 : Total  Size=       2964 bytes  One basket in memory    *\n",
      "*Baskets :        0 : Basket Size=      32000 bytes  Compression=   1.00     *\n",
      "*............................................................................*\n",
      "*Br    1 :fCoordinates.fPt : Double_t                                        *\n",
      "*Entries :     1226 : Total  Size=      10428 bytes  File Size  =       5621 *\n",
      "*Baskets :        1 : Basket Size=      32000 bytes  Compression=   1.76     *\n",
      "*............................................................................*\n",
      "*Br    2 :fCoordinates.fEta : Double_t                                       *\n",
      "*Entries :     1226 : Total  Size=      10433 bytes  File Size  =       4100 *\n",
      "*Baskets :        1 : Basket Size=      32000 bytes  Compression=   2.41     *\n",
      "*............................................................................*\n",
      "*Br    3 :fCoordinates.fPhi : Double_t                                       *\n",
      "*Entries :     1226 : Total  Size=      10433 bytes  File Size  =       4181 *\n",
      "*Baskets :        1 : Basket Size=      32000 bytes  Compression=   2.37     *\n",
      "*............................................................................*\n",
      "*Br    4 :fCoordinates.fM : Double_t                                         *\n",
      "*Entries :     1226 : Total  Size=      10423 bytes  File Size  =       2684 *\n",
      "*Baskets :        1 : Basket Size=      32000 bytes  Compression=   3.69     *\n",
      "*............................................................................*\n",
      "*Branch  :ele2                                                               *\n",
      "*Entries :     1226 : BranchElement (see below)                              *\n",
      "*............................................................................*\n",
      "*Br    5 :fCoordinates :                                                     *\n",
      "*Entries :     1226 : Total  Size=       2964 bytes  One basket in memory    *\n",
      "*Baskets :        0 : Basket Size=      32000 bytes  Compression=   1.00     *\n",
      "*............................................................................*\n",
      "*Br    6 :fCoordinates.fPt : Double_t                                        *\n",
      "*Entries :     1226 : Total  Size=      10428 bytes  File Size  =       5568 *\n",
      "*Baskets :        1 : Basket Size=      32000 bytes  Compression=   1.78     *\n",
      "*............................................................................*\n",
      "*Br    7 :fCoordinates.fEta : Double_t                                       *\n",
      "*Entries :     1226 : Total  Size=      10433 bytes  File Size  =       4102 *\n",
      "*Baskets :        1 : Basket Size=      32000 bytes  Compression=   2.41     *\n",
      "*............................................................................*\n",
      "*Br    8 :fCoordinates.fPhi : Double_t                                       *\n",
      "*Entries :     1226 : Total  Size=      10433 bytes  File Size  =       4192 *\n",
      "*Baskets :        1 : Basket Size=      32000 bytes  Compression=   2.36     *\n",
      "*............................................................................*\n",
      "*Br    9 :fCoordinates.fM : Double_t                                         *\n",
      "*Entries :     1226 : Total  Size=      10423 bytes  File Size  =       2683 *\n",
      "*Baskets :        1 : Basket Size=      32000 bytes  Compression=   3.69     *\n",
      "*............................................................................*\n",
      "*Br   10 :diEleMass : diEleMass/F                                            *\n",
      "*Entries :     1226 : Total  Size=       5485 bytes  File Size  =       4206 *\n",
      "*Baskets :        1 : Basket Size=      32000 bytes  Compression=   1.18     *\n",
      "*............................................................................*\n"
     ]
    }
   ],
   "source": [
    "%%bash \n",
    "root -l miniTree.root\n",
    "miniTree->Print()"
   ]
  },
  {
   "cell_type": "markdown",
   "metadata": {},
   "source": [
    "## Distributed RDataFrame\n",
    "\n",
    "The `RDataFrame` metioned above is executed locally, which meas that your resource are restricted by the cores of the single machine. \n",
    "Benefit from Dask, we can use distributed RDataFrame to to scale up the analysis across cores of the multiple machines (clusters).\n",
    "\n",
    "The distributed RDataFrame has similar usage as local RDataFrame, so users don't need to change the analysis code.\n",
    "\n",
    "**What users need to do is to create the connection to the cluster and plug it into the distributed `RDataFrame`.**\n",
    "\n",
    "Here, we use `Dask.LocalCluster` to demonstrate it. \n",
    "Please check [distrdf002_dask_connection.py](https://root.cern.ch/doc/master/distrdf002__dask__connection_8py.html) for more information."
   ]
  },
  {
   "cell_type": "code",
   "execution_count": 8,
   "metadata": {},
   "outputs": [],
   "source": [
    "from dask.distributed import LocalCluster, Client\n",
    "from dask_jobqueue import HTCondorCluster\n",
    "\n",
    "\n",
    "def my_init_dist():\n",
    "    @ROOT.Numba.Declare([\"RVec<int>\", \"RVec<float>\"], \"RVec<int>\")\n",
    "    def GetIndices_dist(isgood, pt): # the RVec will be treated as numpy array in the function\n",
    "        idx_select = np.nonzero(isgood)[0]\n",
    "        idx_sort = np.argsort(-pt)\n",
    "        idx = np.array([i for i in idx_sort if i in idx_select], dtype=np.int32)\n",
    "        return idx\n",
    "\n",
    "\n",
    "def create_connection():\n",
    "    # cluster = HTCondorCluster(\n",
    "    #     cores=1,\n",
    "    #     memory=\"3000MB\",  \n",
    "    #     disk=\"2000MB\",\n",
    "    #     job_extra_directives={\n",
    "    #         \"log\": \"dask_job.log\",\n",
    "    #         \"output\": \"dask_job.out\",\n",
    "    #         \"error\": \"dask_job.err\"\n",
    "    #         # \"should_transfer_files\": \"Yes\",\n",
    "    #         # \"when_to_transfer_output\": \"ON_EXIT\"\n",
    "    #     }\n",
    "    # )\n",
    "    # cluster.scale(jobs=4)\n",
    "    cluster = LocalCluster(n_workers=4, threads_per_worker=1, processes=True, memory_limit=\"2GiB\")\n",
    "    client = Client(cluster)\n",
    "    return client\n",
    "\n",
    "\n",
    "DistRDF = ROOT.RDF.Experimental.Distributed.Dask.RDataFrame\n",
    "initialize = ROOT.RDF.Experimental.Distributed.initialize\n",
    "initialize(my_init_dist)"
   ]
  },
  {
   "cell_type": "code",
   "execution_count": 9,
   "metadata": {},
   "outputs": [
    {
     "name": "stderr",
     "output_type": "stream",
     "text": [
      "Warning in <TCanvas::Constructor>: Deleting canvas with same name: c\n"
     ]
    },
    {
     "data": {
      "image/png": "[encoded data removed]",
      "text/plain": [
       "<IPython.core.display.Image object>"
      ]
     },
     "metadata": {},
     "output_type": "display_data"
    }
   ],
   "source": [
    "client = create_connection()\n",
    "df_dist = DistRDF(\"Events\", \"DYToLL.root\", daskclient=client)\n",
    "\n",
    "df1_dist = df_dist.Define(\"isGoodEle\", \"Electron_mvaIso_WP90 == 1 && Electron_pt > 10\")\\\n",
    "                  .Filter(\"ROOT::VecOps::Sum(isGoodEle) > 1\", \"two good electrons\")\n",
    "        \n",
    "df2_dist = df1_dist.Define(\"ele1_idx\", \"Numba::GetIndices_dist(isGoodEle, Electron_pt)[0]\")\\\n",
    "                   .Define(\"ele2_idx\", \"Numba::GetIndices_dist(isGoodEle, Electron_pt)[1]\")\\\n",
    "                   .Filter(\"Electron_charge[ele1_idx] * Electron_charge[ele2_idx] < 0\", \"opposite charge\")\\\n",
    "                   .Define(\"ele1\",      \"ROOT::Math::PtEtaPhiMVector v(Electron_pt[ele1_idx], Electron_eta[ele1_idx], Electron_phi[ele1_idx], Electron_mass[ele1_idx]); return v;\")\\\n",
    "                   .Define(\"ele2\",      \"ROOT::Math::PtEtaPhiMVector v(Electron_pt[ele2_idx], Electron_eta[ele2_idx], Electron_phi[ele2_idx], Electron_mass[ele2_idx]); return v;\")\\\n",
    "                   .Define(\"diEleMass\", \"(float) (ele1+ele2).M()\")\n",
    "\n",
    "hist_dist = df2_dist.Histo1D((\"diEleMass\", \"Dielectron mass distribution\", 60, 60, 120), \"diEleMass\") \n",
    "\n",
    "ROOT.gStyle.SetOptStat(0)\n",
    "ROOT.gStyle.SetPadTickX(1)\n",
    "ROOT.gStyle.SetPadTickY(1)    \n",
    "c = ROOT.TCanvas(\"c\", \"c\", 800, 700)\n",
    "c.cd()\n",
    "\n",
    "# trigger the event loop\n",
    "hist_dist.GetXaxis().SetTitle(\"m_{ee} (GeV)\")\n",
    "hist_dist.GetXaxis().SetTitleSize(0.04)\n",
    "hist_dist.GetXaxis().SetTitleOffset(1.1)\n",
    "hist_dist.SetLineColor(ROOT.TColor.GetColor(\"#FFA33C\")) \n",
    "hist_dist.SetFillColor(ROOT.TColor.GetColor(\"#FFC436\")) \n",
    "hist_dist.SetLineWidth(3)\n",
    "hist_dist.Draw(\"hist\")\n",
    "\n",
    "c.Draw()"
   ]
  },
  {
   "cell_type": "code",
   "execution_count": 10,
   "metadata": {},
   "outputs": [],
   "source": [
    "client.close()"
   ]
  }
 ],
 "metadata": {
  "kernelspec": {
   "display_name": "ROOT",
   "language": "python",
   "name": "python3"
  },
  "language_info": {
   "codemirror_mode": {
    "name": "ipython",
    "version": 3
   },
   "file_extension": ".py",
   "mimetype": "text/x-python",
   "name": "python",
   "nbconvert_exporter": "python",
   "pygments_lexer": "ipython3",
   "version": "3.10.13"
  }
 },
 "nbformat": 4,
 "nbformat_minor": 2
}
